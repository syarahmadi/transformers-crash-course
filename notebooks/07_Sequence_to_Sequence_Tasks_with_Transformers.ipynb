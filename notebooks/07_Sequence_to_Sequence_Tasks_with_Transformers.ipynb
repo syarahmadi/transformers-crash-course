{
  "nbformat": 4,
  "nbformat_minor": 0,
  "metadata": {
    "colab": {
      "provenance": [],
      "toc_visible": true,
      "gpuType": "T4"
    },
    "kernelspec": {
      "name": "python3",
      "display_name": "Python 3"
    },
    "language_info": {
      "name": "python"
    },
    "accelerator": "GPU"
  },
  "cells": [
    {
      "cell_type": "markdown",
      "source": [
        "# Sequence-to-Sequence Tasks with Transformers using Python, PyTorch, and Huggingface\n",
        "\n",
        "## 1. Introduction to Sequence-to-Sequence Tasks\n",
        "\n",
        "### What is Sequence-to-Sequence?\n",
        "\n",
        "Sequence-to-sequence (seq2seq) is a concept in machine learning where both the input and the output are sequences. The core idea is to use a neural network model to map an input sequence to an output sequence. These models are particularly useful for tasks where the length of the input sequence can differ from the length of the output sequence.\n",
        "\n",
        "#### Applications of Seq2Seq:\n",
        "- **Machine Translation**: Translating a sentence from one language to another.\n",
        "- **Text Summarization**: Condensing a long article into a short summary.\n",
        "- **Speech Recognition**: Converting spoken language into written text.\n",
        "- **Image Captioning**: Describing the content of an image using a sentence.\n",
        "\n",
        "### How does Seq2Seq work?\n",
        "\n",
        "A typical seq2seq model consists of two main components:\n",
        "1. **Encoder**: This part of the network compresses the input into a \"context\" or \"memory\" which the decoder then uses to produce the output.\n",
        "2. **Decoder**: This part of the network unfolds the \"context\" to produce the output sequence.\n",
        "\n",
        "The encoder processes the input sequence and compresses this information into a context vector, which is a fixed-size vector. The decoder then uses this context vector to produce the output sequence. The entire model is trained end-to-end.\n",
        "\n",
        "---\n",
        "\n",
        "## 2. Understanding the Transformer Architecture\n",
        "\n",
        "The Transformer architecture, introduced in the paper [\"Attention Is All You Need\"](https://arxiv.org/abs/1706.03762), revolutionized the field of deep learning. It uses self-attention mechanisms to weigh input tokens differently, allowing for more flexible and context-aware representations.\n",
        "\n",
        "![Transformer Architecture](https://miro.medium.com/max/2824/1*1cHMDM5GSfZ8z9dZREKwIQ.png)\n",
        "\n",
        "---\n",
        "\n",
        "## 3. Setting Up the Environment\n",
        "\n",
        "First, let's set up our environment in Google Colab:\n"
      ],
      "metadata": {
        "id": "Npy6OUdcslfR"
      }
    },
    {
      "cell_type": "code",
      "source": [
        "!pip install -q torch torchvision\n",
        "!pip install -q transformers\n",
        "!pip install -q sentencepiece"
      ],
      "metadata": {
        "id": "7ZMlsHyWsl1Y"
      },
      "execution_count": 1,
      "outputs": []
    },
    {
      "cell_type": "markdown",
      "source": [
        "- Package Versions\n",
        "To ensure reproducibility, it's essential to know the versions of the packages used in this tutorial. Here's how you can check the versions of the key packages:"
      ],
      "metadata": {
        "id": "Pc7zt5SUwBQD"
      }
    },
    {
      "cell_type": "code",
      "source": [
        "import torch\n",
        "import transformers\n",
        "\n",
        "print(f\"PyTorch Version: {torch.__version__}\")\n",
        "print(f\"Transformers Version: {transformers.__version__}\")"
      ],
      "metadata": {
        "colab": {
          "base_uri": "https://localhost:8080/"
        },
        "id": "MhBAIWO7wAYs",
        "outputId": "77f71b7e-aca9-4ebc-8474-fa45ca75d853"
      },
      "execution_count": 9,
      "outputs": [
        {
          "output_type": "stream",
          "name": "stdout",
          "text": [
            "PyTorch Version: 2.0.1+cu118\n",
            "Transformers Version: 4.33.2\n"
          ]
        }
      ]
    },
    {
      "cell_type": "markdown",
      "source": [
        "## 4. Implementing a Seq2Seq Task with Transformers\n",
        "\n",
        "For this tutorial, we'll focus on machine translation as our seq2seq task. We'll translate English sentences to French.\n",
        "\n",
        "### 4.1. Loading the Model and Tokenizer\n",
        "\n",
        "We'll use the `t5-small` model from Huggingface's model hub. T5 (Text-to-Text Transfer Transformer) is designed for various seq2seq tasks.\n"
      ],
      "metadata": {
        "id": "VQHypHfMswd5"
      }
    },
    {
      "cell_type": "code",
      "source": [
        "from transformers import T5ForConditionalGeneration, T5Tokenizer\n",
        "\n",
        "model_name = \"t5-small\"\n",
        "model = T5ForConditionalGeneration.from_pretrained(model_name)\n",
        "tokenizer = T5Tokenizer.from_pretrained(model_name)"
      ],
      "metadata": {
        "colab": {
          "base_uri": "https://localhost:8080/"
        },
        "id": "6u_S-zj5snsx",
        "outputId": "8d3736b1-af2f-42eb-9611-4d167d5a0bec"
      },
      "execution_count": 2,
      "outputs": [
        {
          "output_type": "stream",
          "name": "stderr",
          "text": [
            "You are using the default legacy behaviour of the <class 'transformers.models.t5.tokenization_t5.T5Tokenizer'>. If you see this, DO NOT PANIC! This is expected, and simply means that the `legacy` (previous) behavior will be used so nothing changes for you. If you want to use the new behaviour, set `legacy=False`. This should only be set if you understand what it means, and thouroughly read the reason why this was added as explained in https://github.com/huggingface/transformers/pull/24565\n"
          ]
        }
      ]
    },
    {
      "cell_type": "markdown",
      "source": [
        "### 4.2. Translation Function\n",
        "\n",
        "Let's define a function to handle the translation:"
      ],
      "metadata": {
        "id": "JAwdIZOjs4Yd"
      }
    },
    {
      "cell_type": "code",
      "source": [
        "def translate(text, model, tokenizer):\n",
        "    input_ids = tokenizer.encode(\"translate English to French: \" + text, return_tensors=\"pt\")\n",
        "    # Using the generate method, which handles the encoder-decoder process internally\n",
        "    outputs = model.generate(input_ids)\n",
        "    translated_text = tokenizer.decode(outputs[0], skip_special_tokens=True)\n",
        "    return translated_text"
      ],
      "metadata": {
        "id": "_VXNTDCas2dM"
      },
      "execution_count": 3,
      "outputs": []
    },
    {
      "cell_type": "markdown",
      "source": [
        "### 4.3. Testing the Translation"
      ],
      "metadata": {
        "id": "I7UV1s4-s8AH"
      }
    },
    {
      "cell_type": "code",
      "source": [
        "text = \"Hello, how are you?\"\n",
        "translated_text = translate(text, model, tokenizer)\n",
        "print(f\"Translated Text: {translated_text}\")"
      ],
      "metadata": {
        "colab": {
          "base_uri": "https://localhost:8080/"
        },
        "id": "g9O4eH02s6Tq",
        "outputId": "41309437-7d0b-4a0a-8e8e-29eef3985ab3"
      },
      "execution_count": 4,
      "outputs": [
        {
          "output_type": "stream",
          "name": "stderr",
          "text": [
            "/usr/local/lib/python3.10/dist-packages/transformers/generation/utils.py:1260: UserWarning: Using the model-agnostic default `max_length` (=20) to control thegeneration length. We recommend setting `max_new_tokens` to control the maximum length of the generation.\n",
            "  warnings.warn(\n"
          ]
        },
        {
          "output_type": "stream",
          "name": "stdout",
          "text": [
            "Translated Text: Bonjour, comment êtes-vous?\n"
          ]
        }
      ]
    },
    {
      "cell_type": "markdown",
      "source": [
        "## 5. Visualizing the Results\n",
        "\n",
        "Visualizing attention weights can provide insights into what the model \"focuses\" on when translating.\n"
      ],
      "metadata": {
        "id": "cPLG90gwtAB8"
      }
    },
    {
      "cell_type": "code",
      "source": [
        "import torch\n",
        "import matplotlib.pyplot as plt\n",
        "import seaborn as sns\n",
        "\n",
        "def visualize_attention(text, model, tokenizer):\n",
        "    # Encode the text with the prefix\n",
        "    input_ids = tokenizer.encode(\"translate English to French: \" + text, return_tensors=\"pt\")\n",
        "\n",
        "    # Generate the translation to get the decoder_input_ids\n",
        "    with torch.no_grad():\n",
        "        decoder_input_ids = model.generate(input_ids)\n",
        "\n",
        "    # Get the model's outputs with attentions\n",
        "    outputs = model(input_ids=input_ids, decoder_input_ids=decoder_input_ids, output_attentions=True)\n",
        "\n",
        "    # Extract the attention weights from the outputs\n",
        "    attentions = outputs[-1]  # attentions are the last item in the outputs tuple\n",
        "\n",
        "    # Visualize the first layer's attention weights for the first head\n",
        "    attention = attentions[0][0][0].squeeze().detach().numpy()\n",
        "\n",
        "    plt.figure(figsize=(10, 5))\n",
        "    sns.heatmap(attention, cmap=\"YlGnBu\")\n",
        "    plt.xlabel(\"Attention Heads\")\n",
        "    plt.ylabel(\"Tokens\")\n",
        "    plt.title(\"Attention Weights\")\n",
        "    plt.show()\n",
        "\n",
        "visualize_attention(text, model, tokenizer)\n",
        "\n"
      ],
      "metadata": {
        "colab": {
          "base_uri": "https://localhost:8080/",
          "height": 542
        },
        "id": "1AF3G-Vls99e",
        "outputId": "b42e206c-43af-4258-bcb4-859721e32aa4"
      },
      "execution_count": 7,
      "outputs": [
        {
          "output_type": "stream",
          "name": "stderr",
          "text": [
            "/usr/local/lib/python3.10/dist-packages/transformers/generation/utils.py:1260: UserWarning: Using the model-agnostic default `max_length` (=20) to control thegeneration length. We recommend setting `max_new_tokens` to control the maximum length of the generation.\n",
            "  warnings.warn(\n"
          ]
        },
        {
          "output_type": "display_data",
          "data": {
            "text/plain": [
              "<Figure size 1000x500 with 2 Axes>"
            ],
            "image/png": "[encoded data removed]"
          },
          "metadata": {}
        }
      ]
    },
    {
      "cell_type": "markdown",
      "source": [
        "## 6. Conclusion\n",
        "\n",
        "Transformers have revolutionized the way we handle seq2seq tasks. With the power of Huggingface's Transformers library and PyTorch, implementing such tasks has become more accessible than ever. The visualization of attention weights offers a glimpse into the inner workings of these models, helping us understand their decision-making process.\n",
        "\n",
        "> **Note**: This tutorial is a concise introduction to seq2seq tasks with Transformers. In practice, you might want to fine-tune models on specific datasets, handle longer sequences with more advanced techniques, and explore other architectures and models available in the Huggingface model hub.\n"
      ],
      "metadata": {
        "id": "t0yHRJH1tDpY"
      }
    }
  ]
}