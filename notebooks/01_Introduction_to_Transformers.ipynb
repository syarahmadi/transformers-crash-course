{
 "cells": [
  {
   "cell_type": "markdown",
   "metadata": {},
   "source": [
    "# Introduction to Transformers\n",
    "\n",
    "Transformers have revolutionized the field of deep learning, especially in Natural Language Processing (NLP). In this tutorial, we'll explore what transformers are and demonstrate how to use a pre-trained transformer model from the HuggingFace library.\n",
    "\n"
   ]
  },
  {
   "cell_type": "code",
   "execution_count": null,
   "metadata": {},
   "outputs": [],
   "source": [
    "# Install necessary libraries\n",
    "!pip install transformers torch"
   ]
  },
  {
   "cell_type": "code",
   "execution_count": null,
   "metadata": {},
   "outputs": [],
   "source": [
    "# Importing necessary libraries\n",
    "from transformers import BertTokenizer, BertModel\n",
    "\n",
    "# Loading the pre-trained BERT model and tokenizer\n",
    "model_name = \"bert-base-uncased\"\n",
    "model = BertModel.from_pretrained(model_name)\n",
    "tokenizer = BertTokenizer.from_pretrained(model_name)\n",
    "\n",
    "print(f\"Loaded {model_name} model and tokenizer.\")"
   ]
  },
  {
   "cell_type": "code",
   "execution_count": null,
   "metadata": {},
   "outputs": [],
   "source": [
    "# Sample text\n",
    "text = \"Hello, world! This is an introduction to transformers.\"\n",
    "\n",
    "# Tokenizing the text\n",
    "tokens = tokenizer.tokenize(text)\n",
    "token_ids = tokenizer.convert_tokens_to_ids(tokens)\n",
    "\n",
    "print(f\"Tokens: {tokens}\")\n",
    "print(f\"Token IDs: {token_ids}\")"
   ]
  },
  {
   "cell_type": "code",
   "execution_count": null,
   "metadata": {},
   "outputs": [],
   "source": [
    "# Encoding the text and getting model outputs\n",
    "inputs = tokenizer.encode_plus(text, return_tensors=\"pt\", add_special_tokens=True)\n",
    "outputs = model(**inputs)\n",
    "\n",
    "# Extracting the last hidden state (features)\n",
    "last_hidden_state = outputs.last_hidden_state\n",
    "\n",
    "print(f\"Shape of the last hidden state: {last_hidden_state.shape}\")"
   ]
  },
  {
   "cell_type": "markdown",
   "metadata": {},
   "source": [
    "In this brief introduction, we explored the basics of transformers and demonstrated how to use a pre-trained BERT model from the HuggingFace library. In subsequent tutorials, we'll delve deeper into the architecture and applications of transformers."
   ]
  }
 ],
 "metadata": {
  "kernelspec": {
   "display_name": "Python 3",
   "language": "python",
   "name": "python3"
  },
  "language_info": {
   "codemirror_mode": {
    "name": "ipython",
    "version": 3
   },
   "file_extension": ".py",
   "mimetype": "text/x-python",
   "name": "python",
   "nbconvert_exporter": "python",
   "pygments_lexer": "ipython3",
   "version": "3.8.5"
  }
 },
 "nbformat": 4,
 "nbformat_minor": 5
}
