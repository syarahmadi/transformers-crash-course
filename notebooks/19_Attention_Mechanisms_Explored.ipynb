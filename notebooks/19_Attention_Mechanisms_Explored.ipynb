{
  "nbformat": 4,
  "nbformat_minor": 0,
  "metadata": {
    "colab": {
      "provenance": [],
      "gpuType": "T4"
    },
    "kernelspec": {
      "name": "python3",
      "display_name": "Python 3"
    },
    "language_info": {
      "name": "python"
    },
    "accelerator": "GPU"
  },
  "cells": [
    {
      "cell_type": "markdown",
      "source": [
        "# Advanced Tutorial on Attention Mechanisms with PyTorch and Hugging Face\n",
        "\n",
        "## Introduction\n",
        "In this advanced tutorial, we'll explore the intricacies of attention mechanisms, a cornerstone technology in modern natural language processing (NLP) and beyond. We'll dive into the theoretical underpinnings, then implement and visualize attention mechanisms using PyTorch and Hugging Face's Transformers library. This guide is designed for those with a solid foundation in machine learning and PyTorch, aiming to deepen understanding and practical skills in applying attention in NLP tasks.\n",
        "\n",
        "## Setup\n",
        "First, ensure you're working in a Python environment with PyTorch and Hugging Face's Transformers installed. This tutorial is designed to be compatible with Google Colab notebooks."
      ],
      "metadata": {
        "id": "2AmoBPULgoWq"
      }
    },
    {
      "cell_type": "code",
      "source": [
        "!pip install -q torch torchvision torchaudio\n",
        "!pip install -q transformers"
      ],
      "metadata": {
        "id": "5Q9aTiS1guf9"
      },
      "execution_count": 1,
      "outputs": []
    },
    {
      "cell_type": "markdown",
      "source": [
        "## Checking Package Versions\n",
        "To ensure reproducibility, let's check the versions of the key packages used in this tutorial."
      ],
      "metadata": {
        "id": "UlQ1m5UXgylH"
      }
    },
    {
      "cell_type": "code",
      "source": [
        "import torch\n",
        "import transformers\n",
        "print(f\"PyTorch Version: {torch.__version__}\")\n",
        "print(f\"Transformers Version: {transformers.__version__}\")"
      ],
      "metadata": {
        "colab": {
          "base_uri": "https://localhost:8080/"
        },
        "id": "wpQh7-H6gyCe",
        "outputId": "b4b438b4-17e0-4c63-e5e2-b7b4f339f3e1"
      },
      "execution_count": 2,
      "outputs": [
        {
          "output_type": "stream",
          "name": "stdout",
          "text": [
            "PyTorch Version: 2.1.0+cu121\n",
            "Transformers Version: 4.38.1\n"
          ]
        }
      ]
    },
    {
      "cell_type": "markdown",
      "source": [
        "## Understanding Attention Mechanisms\n",
        "Attention mechanisms enable models to focus on different parts of the input sequence when performing a task, mimicking cognitive attention in humans. This capability has significantly improved performance in tasks such as machine translation, text summarization, and question-answering.\n",
        "\n",
        "## Theoretical Background\n",
        "At its core, attention is calculated using three components: queries, keys, and values. The attention scores are computed by measuring the similarity between queries and keys, often using dot-product or scaled dot-product attention. These scores are then used to create a weighted sum of values, which represents the output of the attention mechanism.\n",
        "\n",
        "## Self-Attention and Transformers\n",
        "Self-attention, a variant of attention, allows inputs to interact with each other (\"self\") and find out who they should pay more attention to. The Transformer model, introduced in the paper \"Attention is All You Need\", relies entirely on self-attention mechanisms to process data.\n",
        "\n",
        "## More Details\n",
        "\n",
        "\n",
        "### Scaled Dot-Product Attention\n",
        "\n",
        "The scaled dot-product attention is a core component of the Transformer architecture, enabling it to dynamically focus on different parts of the input sequence. It operates on queries $Q$, keys $K$, and values $V$, which are all vectors produced by linearly transforming the input embeddings. The attention mechanism computes the dot products of the query with all keys, divides each by $\\sqrt{d_k}$ (where $d_k$ is the dimensionality of the keys and queries), and applies a softmax function to obtain the weights on the values.\n",
        "\n",
        "### Mathematical Formulation\n",
        "\n",
        "Given a set of queries $Q$, keys $K$, and values $V$, the scaled dot-product attention output is calculated as:\n",
        "\n",
        "$$ \\text{Attention}(Q, K, V) = \\text{softmax}\\left(\\frac{QK^T}{\\sqrt{d_k}}\\right)V $$\n",
        "\n",
        "- $QK^T$ represents the matrix multiplication of the queries and the transpose of the keys, providing a measure of similarity between each query and all keys.\n",
        "- $\\sqrt{d_k}$ is a scaling factor to prevent the softmax function from entering regions where it has extremely small gradients, improving stability. It's the square root of the key/query dimensionality.\n",
        "- The softmax function is applied to ensure the weights sum up to 1, allowing them to be interpreted as probabilities.\n",
        "\n",
        "### Transformer Model Overview\n",
        "\n",
        "The Transformer model, introduced by Vaswani et al. in \"Attention is All You Need,\" revolutionized natural language processing by relying entirely on attention mechanisms, dispensing with recurrence and convolutions. It consists of an encoder and a decoder, each comprising multiple layers that perform various functions, including self-attention, feed-forward neural networks, and layer normalization.\n",
        "\n",
        "### Encoder\n",
        "\n",
        "The encoder maps an input sequence of symbol representations $(x_1, ..., x_n$) to a sequence of continuous representations $z = (z_1, ..., z_n)$. Each layer in the encoder consists of two sub-layers: a multi-head self-attention mechanism and a simple, position-wise fully connected feed-forward network.\n",
        "\n",
        "Mathematically, for each layer, the operations can be described as follows:\n",
        "\n",
        "1. **Multi-Head Self-Attention:** Allows the model to focus on different positions of the input sequence. It's an extension of the scaled dot-product attention and is calculated as:\n",
        "\n",
        "   $$ \\text{MultiHead}(Q, K, V) = \\text{Concat}(\\text{head}_1, ..., \\text{head}_h)W^O $$\n",
        "\n",
        "   where $ \\text{head}_i = \\text{Attention}(QW_i^Q, KW_i^K, VW_i^V) $\n",
        "\n",
        "   Here, $W_i^Q$, $W_i^K$, and $W_i^V$ are parameter matrices for the $i$-th attention head, and $W^O$ is the output linear transformation matrix.\n",
        "\n",
        "2. **Position-wise Feed-Forward Networks:** A fully connected feed-forward network is applied to each position separately and identically. This consists of two linear transformations with a ReLU activation in between:\n",
        "\n",
        "   $$ \\text{FFN}(x) = \\max(0, xW_1 + b_1)W_2 + b_2 $$\n",
        "\n",
        "   where $W_1$, $W_2$, $b_1$, and $b_2$ are parameters of the linear transformations.\n",
        "\n",
        "### Decoder\n",
        "\n",
        "The decoder is also composed of a series of layers that generate the output sequence. Each layer in the decoder includes three sub-layers: a multi-head self-attention mechanism, a multi-head attention mechanism over the encoder's output, and a position-wise feed-forward network. The self-attention mechanism in the decoder is modified to prevent positions from attending to subsequent positions, ensuring that the predictions for position $i$ can depend only on the known outputs at positions less than $i$.\n",
        "\n",
        "### Putting It All Together\n",
        "\n",
        "The Transformer combines these components in a novel architecture that processes data in parallel and captures complex dependencies, significantly improving upon previous models for tasks like machine translation, text summarization, and more.\n",
        "\n",
        "This detailed explanation, complete with mathematical formulations, provides a comprehensive overview of the scaled dot-product attention mechanism and the Transformer model's architecture. You can use this as part of your advanced tutorial documentation in Google Colab notebooks, providing readers with a deep understanding of these pivotal technologies in modern NLP.\n",
        "\n",
        "\n",
        "\n",
        "\n",
        "## Implementing Attention with PyTorch\n",
        "Let's implement a basic version of the scaled dot-product attention mechanism in PyTorch.##"
      ],
      "metadata": {
        "id": "DU7FBJlZg-CU"
      }
    },
    {
      "cell_type": "code",
      "source": [
        "import torch.nn.functional as F\n",
        "\n",
        "def scaled_dot_product_attention(query, key, value):\n",
        "    matmul_qk = torch.matmul(query, key.transpose(-2, -1))\n",
        "    d_k = query.size(-1)\n",
        "    # Correct approach: Create a tensor of d_k for sqrt operation\n",
        "    scaled_attention_logits = matmul_qk / torch.sqrt(torch.tensor(d_k, dtype=torch.float32))\n",
        "    attention_weights = F.softmax(scaled_attention_logits, dim=-1)\n",
        "    output = torch.matmul(attention_weights, value)\n",
        "    return output, attention_weights"
      ],
      "metadata": {
        "id": "Pa5CC0KVhEs0"
      },
      "execution_count": 21,
      "outputs": []
    },
    {
      "cell_type": "markdown",
      "source": [
        "## Visualizing Attention\n",
        "Visualizing attention weights can provide insights into how models make decisions. Let's use matplotlib to create a function that visualizes the attention weights between inputs in a sequence."
      ],
      "metadata": {
        "id": "C8TbXrLmhHQG"
      }
    },
    {
      "cell_type": "code",
      "source": [
        "import matplotlib.pyplot as plt\n",
        "import numpy as np\n",
        "\n",
        "def plot_attention(attention, sentence, predicted_sentence):\n",
        "    fig, ax = plt.subplots(figsize=(5,5))\n",
        "    attention = attention.squeeze().detach().cpu().numpy()\n",
        "    ax.matshow(attention, cmap='viridis')\n",
        "    ax.set_xticklabels([''] + sentence, rotation=90)\n",
        "    ax.set_yticklabels([''] + predicted_sentence)\n",
        "    plt.show()\n"
      ],
      "metadata": {
        "id": "6S5NtgyXhGmm"
      },
      "execution_count": 22,
      "outputs": []
    },
    {
      "cell_type": "markdown",
      "source": [
        "## Integrating Attention Functions into a Practical Example\n",
        "### Step 1: Implementing a Simple Transformer Block\n",
        "First, let's implement a simple Transformer block that uses our scaled_dot_product_attention function. This example will help illustrate how attention mechanisms are applied within the Transformer architecture.\n",
        "\n"
      ],
      "metadata": {
        "id": "mZxyZbBRhtrX"
      }
    },
    {
      "cell_type": "code",
      "source": [
        "import torch\n",
        "import torch.nn as nn\n",
        "\n",
        "class SimpleTransformerBlock(nn.Module):\n",
        "    def __init__(self, emb_size, heads):\n",
        "        super(SimpleTransformerBlock, self).__init__()\n",
        "        self.multi_head_attention = MultiHeadAttention(emb_size, heads)\n",
        "        self.norm1 = nn.LayerNorm(emb_size)\n",
        "        self.norm2 = nn.LayerNorm(emb_size)\n",
        "        self.ff = nn.Sequential(\n",
        "            nn.Linear(emb_size, 4 * emb_size),\n",
        "            nn.ReLU(),\n",
        "            nn.Linear(4 * emb_size, emb_size)\n",
        "        )\n",
        "\n",
        "    def forward(self, value, key, query):\n",
        "        attention_output, attention_weights = self.multi_head_attention(query, key, value)\n",
        "        x = self.norm1(attention_output + query)\n",
        "        forward = self.ff(x)\n",
        "        return self.norm2(forward + x), attention_weights\n",
        "\n",
        "class MultiHeadAttention(nn.Module):\n",
        "    def __init__(self, emb_size, heads):\n",
        "        super(MultiHeadAttention, self).__init__()\n",
        "        self.emb_size = emb_size\n",
        "        self.heads = heads\n",
        "        self.head_dim = emb_size // heads\n",
        "\n",
        "        assert self.head_dim * heads == emb_size, \"Embedding size not divisible by number of heads\"\n",
        "\n",
        "        self.values = nn.Linear(emb_size, emb_size, bias=False)\n",
        "        self.keys = nn.Linear(emb_size, emb_size, bias=False)\n",
        "        self.queries = nn.Linear(emb_size, emb_size, bias=False)\n",
        "        self.fc_out = nn.Linear(heads * self.head_dim, emb_size)\n",
        "\n",
        "    def forward(self, value, key, query):\n",
        "        N = query.shape[0]\n",
        "        value_len, key_len, query_len = value.shape[1], key.shape[1], query.shape[1]\n",
        "\n",
        "        # Split the embedding into self.heads pieces for queries, keys, and values\n",
        "        # And apply the corresponding linear transformation\n",
        "        queries = self.queries(query).view(N, query_len, self.heads, self.head_dim)\n",
        "        keys = self.keys(key).view(N, key_len, self.heads, self.head_dim)\n",
        "        values = self.values(value).view(N, value_len, self.heads, self.head_dim)\n",
        "\n",
        "        # Permute for the computation to match the expected input of scaled_dot_product_attention\n",
        "        queries = queries.permute(0, 2, 1, 3)\n",
        "        keys = keys.permute(0, 2, 1, 3)\n",
        "        values = values.permute(0, 2, 1, 3)\n",
        "\n",
        "        # Call scaled_dot_product_attention\n",
        "        attention, attention_weights = scaled_dot_product_attention(queries, keys, values)\n",
        "\n",
        "        # Concatenate heads and put through final linear layer\n",
        "        attention = attention.permute(0, 2, 1, 3).contiguous().view(N, query_len, self.emb_size)\n",
        "        output = self.fc_out(attention)\n",
        "\n",
        "        return output, attention_weights\n"
      ],
      "metadata": {
        "id": "vlV1e1UfhwMM"
      },
      "execution_count": 23,
      "outputs": []
    },
    {
      "cell_type": "markdown",
      "source": [
        "### Step 2: Visualizing Attention Weights\n",
        "Now, let's simulate a scenario where we can visualize the attention weights. We'll create a mock dataset and pass it through our SimpleTransformerBlock to get the attention weights."
      ],
      "metadata": {
        "id": "G4rx58qSh0rm"
      }
    },
    {
      "cell_type": "code",
      "source": [
        "# Mock input (batch size, sequence length, embedding dimension)\n",
        "mock_data = torch.rand(1, 10, 512)  # A batch with 1 item, 10 sequence length, 512 embedding size\n",
        "\n",
        "# Initialize our simple Transformer block\n",
        "transformer_block = SimpleTransformerBlock(emb_size=512, heads=8)\n",
        "\n",
        "# Forward pass through the transformer block\n",
        "output, attention_weights = transformer_block(mock_data, mock_data, mock_data)\n",
        "\n",
        "# Extract the attention weights for the first head of the first item in the batch\n",
        "first_head_attention_weights = attention_weights[0, 0, :, :]  # Shape: [10, 10]\n",
        "\n",
        "# Ensure the extracted attention weights are in the correct 2D shape for visualization\n",
        "plot_attention(first_head_attention_weights,\n",
        "               sentence=[\"Token {}\".format(i) for i in range(1, 11)],\n",
        "               predicted_sentence=[\"Token {}\".format(i) for i in range(1, 11)])\n",
        "\n"
      ],
      "metadata": {
        "colab": {
          "base_uri": "https://localhost:8080/",
          "height": 558
        },
        "id": "ghM3PGrNh3BS",
        "outputId": "0eb47a46-3fc9-4d96-facc-17eb5c6507df"
      },
      "execution_count": 28,
      "outputs": [
        {
          "output_type": "stream",
          "name": "stderr",
          "text": [
            "<ipython-input-22-a8ad044d13e7>:8: UserWarning: FixedFormatter should only be used together with FixedLocator\n",
            "  ax.set_xticklabels([''] + sentence, rotation=90)\n",
            "<ipython-input-22-a8ad044d13e7>:9: UserWarning: FixedFormatter should only be used together with FixedLocator\n",
            "  ax.set_yticklabels([''] + predicted_sentence)\n"
          ]
        },
        {
          "output_type": "display_data",
          "data": {
            "text/plain": [
              "<Figure size 500x500 with 1 Axes>"
            ],
            "image/png": "[encoded data removed]"
          },
          "metadata": {}
        }
      ]
    },
    {
      "cell_type": "markdown",
      "source": [
        "## Using Hugging Face's Transformers\n",
        "Hugging Face's Transformers library simplifies the implementation and application of attention mechanisms. Let's use a pre-trained model to perform a translation task and visualize the attention weights."
      ],
      "metadata": {
        "id": "tfGIXUcqhME6"
      }
    },
    {
      "cell_type": "code",
      "source": [
        "from transformers import T5ForConditionalGeneration, T5Tokenizer\n",
        "import torch\n",
        "import matplotlib.pyplot as plt\n",
        "\n",
        "# Function to plot attention weights\n",
        "def plot_attention(attention, ax, title=\"\"):\n",
        "    im = ax.matshow(attention, cmap='viridis', aspect='auto')\n",
        "    ax.set_title(title)\n",
        "    ax.set_xlabel('Token IDs in the Sequence')\n",
        "    ax.set_ylabel('Token IDs in the Sequence')\n",
        "    return im\n",
        "\n",
        "# Initialize the model and tokenizer\n",
        "model_name = 't5-small'\n",
        "model = T5ForConditionalGeneration.from_pretrained(model_name, return_dict=True)\n",
        "tokenizer = T5Tokenizer.from_pretrained(model_name)\n",
        "\n",
        "# Prepare the input text\n",
        "input_text = \"translate English to French: Attention mechanisms have revolutionized NLP.\"\n",
        "input_ids = tokenizer.encode(input_text, return_tensors=\"pt\")\n",
        "\n",
        "# Translate the text\n",
        "# Note: Adjust generate() parameters as needed\n",
        "output = model.generate(input_ids, max_length=50, early_stopping=True, return_dict_in_generate=True, output_attentions=True)\n",
        "\n",
        "# Decode the translated sequence\n",
        "translated_text = tokenizer.decode(output.sequences[0], skip_special_tokens=True)\n",
        "print(f\"Translated Text: {translated_text}\")\n",
        "\n",
        "# Visualizing the first layer's encoder attention weights for the first token\n",
        "encoder_attention_weights = output.encoder_attentions  # List of tensors for each layer\n",
        "\n",
        "# Select the attention weights for visualization\n",
        "# Here, we visualize the first layer's weights ([0]) for the first batch item ([0]).\n",
        "attention_weights_to_plot = encoder_attention_weights[0][0].detach().numpy()\n",
        "\n",
        "# Selecting the attention weights of the first head for visualization\n",
        "first_head_attention_weights = attention_weights_to_plot[0]\n",
        "\n",
        "# Plotting the attention weights of the first head\n",
        "fig, ax = plt.subplots(figsize=(10, 10))\n",
        "im = plot_attention(first_head_attention_weights, ax, title=\"Encoder Attention Weights: Layer 1, Head 1\")\n",
        "\n",
        "# Add colorbar to the plot\n",
        "fig.colorbar(im, ax=ax)\n",
        "\n",
        "plt.tight_layout()\n",
        "plt.show()"
      ],
      "metadata": {
        "colab": {
          "base_uri": "https://localhost:8080/",
          "height": 1000
        },
        "id": "2mNNjJAvhLfk",
        "outputId": "b01472bd-ea7b-43d4-afa3-65056b527d2e"
      },
      "execution_count": 35,
      "outputs": [
        {
          "output_type": "stream",
          "name": "stderr",
          "text": [
            "Special tokens have been added in the vocabulary, make sure the associated word embeddings are fine-tuned or trained.\n"
          ]
        },
        {
          "output_type": "stream",
          "name": "stdout",
          "text": [
            "Translated Text: Les mécanismes d'attention ont révolutionné le PNL.\n"
          ]
        },
        {
          "output_type": "display_data",
          "data": {
            "text/plain": [
              "<Figure size 1000x1000 with 2 Axes>"
            ],
            "image/png": "[encoded data removed]"
          },
          "metadata": {}
        }
      ]
    },
    {
      "cell_type": "code",
      "source": [
        "outputs.keys()"
      ],
      "metadata": {
        "colab": {
          "base_uri": "https://localhost:8080/"
        },
        "id": "VSUb5Fb-nNBo",
        "outputId": "804d72c7-d3d2-493a-93a0-251b17e99a9e"
      },
      "execution_count": 33,
      "outputs": [
        {
          "output_type": "execute_result",
          "data": {
            "text/plain": [
              "odict_keys(['sequences', 'encoder_attentions', 'decoder_attentions', 'cross_attentions', 'past_key_values'])"
            ]
          },
          "metadata": {},
          "execution_count": 33
        }
      ]
    },
    {
      "cell_type": "markdown",
      "source": [
        "## Conclusion\n",
        "This tutorial has covered the theoretical background, implementation details, and visualization techniques for attention mechanisms using PyTorch and Hugging Face's Transformers. Attention mechanisms are a powerful tool in the AI toolkit, enabling models to dynamically focus on relevant parts of the input data, leading to significant improvements in a wide range of tasks.\n",
        "\n",
        "Remember, the field of NLP and machine learning is rapidly evolving, so staying updated with the latest research and advancements is crucial for pushing the boundaries of what's possible."
      ],
      "metadata": {
        "id": "9o6v_CPshSeI"
      }
    }
  ]
}